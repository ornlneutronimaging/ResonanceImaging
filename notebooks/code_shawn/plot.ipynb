{
 "cells": [
  {
   "cell_type": "markdown",
   "metadata": {},
   "source": [
    "ImagingReso for plotting ideal neutron resonance"
   ]
  },
  {
   "cell_type": "code",
   "execution_count": 3,
   "metadata": {
    "collapsed": true
   },
   "outputs": [],
   "source": [
    "import _plot_functions\n",
    "import _functions\n",
    "import numpy as np\n",
    "import pandas as pd"
   ]
  },
  {
   "cell_type": "markdown",
   "metadata": {},
   "source": [
    "* Input sample info:\n",
    "  1. Database selection. Only ENDF_VIII is surpported currently. \n",
    "  2. Elements you want plot as in string. Input takes chemical symbol in the form of\n",
    "     'Co' as single element,  \n",
    "     'AgCo' as Ag and Co foils stacked,\n",
    "     UO3' as chemical compound. Chemical compound is only supported when compound_boo is 'Y', and input mixture density \n",
    "  3. Sample thickness in mm.\n",
    "  4. Energy range (min, max) you would like it be plotted. Plotting in lamda is also supported."
   ]
  },
  {
   "cell_type": "code",
   "execution_count": 4,
   "metadata": {
    "collapsed": true
   },
   "outputs": [],
   "source": [
    "'''Describe your sample: '''\n",
    "# Input sample name or names as str, case sensitive\n",
    "_input_formula = 'AgCo'  # input('Please input the chemicals? ')\n",
    "_input_thick_mm = 0.025  # float(input('Please input the thickness or majority thickness of stacked foils in mm : '))\n",
    "_input_thick_cm = _input_thick_mm/10\n",
    "_database = 'ENDF_VIII'\n",
    "energy_max = 300  # max incident energy in eV\n",
    "energy_min = 0  # min incident energy in eV\n",
    "energy_sub = 100  # steps used to interpolate database\n",
    "sub_x = energy_sub * (energy_max - energy_min)  # steps used to interpolate database\n",
    "compound_boo = 'N'  # Compound or single/multi elements foil/stacked foils: Y/N?"
   ]
  },
  {
   "cell_type": "markdown",
   "metadata": {},
   "source": [
    "* How you would like the plot to be presented?"
   ]
  },
  {
   "cell_type": "code",
   "execution_count": 5,
   "metadata": {
    "collapsed": true
   },
   "outputs": [],
   "source": [
    "'''How you want the data to be plotted?'''\n",
    "_plot_or_not = 'Y'\n",
    "_energy_x_axis = 'Y'  # 1 means plot x-axis as energy in eV\n",
    "_trans_y_axis = 'N'  # 1 means plot y-axis as transmission\n",
    "_plot_each_ele_contribution = 'Y'  # 1 means plot each element's contribution\n",
    "_plot_each_iso_contribution = 'N'  # 1 means plot each isotope's contribution\n",
    "_plot_mixed = 'Y'  # 1 means plot mixed resonance\n",
    "\n",
    "'''Export to clipboard for Excel or DataGraph?'''\n",
    "_export_to_clipboard_boo = 'N'"
   ]
  },
  {
   "cell_type": "markdown",
   "metadata": {},
   "source": [
    "* Parse input formula str"
   ]
  },
  {
   "cell_type": "code",
   "execution_count": 6,
   "metadata": {},
   "outputs": [
    {
     "name": "stdout",
     "output_type": "stream",
     "text": [
      "Parsed chemical formula: {'Ag': 1, 'Co': 1}\n"
     ]
    }
   ],
   "source": [
    "''' Parse input formula str and return:\n",
    "(1) elements list, elemental ratio list\n",
    "(2) isotopes dict in the form of {element1: [iso11, iso12, iso13, ...], \n",
    "                                  element2: [iso21, iso22, iso23, ...], \n",
    "                                  element3: [iso31, iso32, iso33, ...], \n",
    "                                  ...}\n",
    "(3) isotopic ratio dict in the form of {element1: {iso11: iso_ratio11, iso12: iso_ratio12, iso13: iso_ratio13, ...},\n",
    "                                        element2: {iso21: iso_ratio21, iso22: iso_ratio12, iso23: iso_ratio23, ...},\n",
    "                                        element3: {iso31: iso_ratio31, iso32: iso_ratio12, iso33: iso_ratio33, ...},\n",
    "                                        ...}\n",
    "'''\n",
    "formula_dict = _functions.input2formula(_input_formula)\n",
    "elements = _functions.dict_key_list(formula_dict)\n",
    "ratios = _functions.dict_value_list(formula_dict)\n",
    "sum_ratios = sum(ratios)\n",
    "isotope_dict = _functions.get_isotope_dicts(_database, elements)"
   ]
  },
  {
   "cell_type": "markdown",
   "metadata": {},
   "source": [
    "* Generate dictionaries contain modified or unmodified thickness, mass of isotopes, mass of elements, atomic ratio of isotopes for each element, density."
   ]
  },
  {
   "cell_type": "code",
   "execution_count": 7,
   "metadata": {
    "collapsed": true
   },
   "outputs": [],
   "source": [
    "# DICT 1: Thickness dict with option for modification\n",
    "thick_cm_dict = _functions.repeat_value_dict(elements, _input_thick_cm)\n",
    "\n",
    "# DICT 2: Isotopic mass dict\n",
    "iso_mass_dicts = _functions.get_iso_mass_dicts_quick(elements, isotope_dict)\n",
    "\n",
    "# Dict 3: Molar mass dict\n",
    "molar_mass_dict = _functions.get_molar_mass_dict(elements)\n",
    "\n",
    "# DICT 4: Isotope at.% dict with option for modification\n",
    "iso_ratio_dicts = _functions.get_iso_ratio_dicts_quick(elements, isotope_dict)\n",
    "\n",
    "# DICT 5: Density dict\n",
    "density_gcm3_dict = _functions.get_density_dict(elements)"
   ]
  },
  {
   "cell_type": "markdown",
   "metadata": {},
   "source": [
    "* The following part is only needed if there are parameters changed with input such as individual thickness or density for stacked foils. Atomic ratios of isotopes can also be modified in this step if they are differ from natural abundance."
   ]
  },
  {
   "cell_type": "code",
   "execution_count": 8,
   "metadata": {
    "collapsed": true
   },
   "outputs": [],
   "source": [
    "# Update DICT 1: isotopic ratio changes lead to |Density| & |Molar mass| changes\n",
    "# Thickness input:\n",
    "special_thick_boo = 'N'\n",
    "special_thick_element_str = str\n",
    "special_thick_mm_list = []\n",
    "special_thick_cm_list = np.array(special_thick_mm_list)/10\n",
    "if compound_boo == 'N':\n",
    "    if special_thick_boo == 'Y':\n",
    "        thick_cm_dict = _plot_functions.modify_thick_cm_dict_by_input(thick_cm_dict, special_thick_element_str, special_thick_cm_list)\n",
    "\n",
    "        \n",
    "# Update DICT 3 & 4 & 5: isotopic ratio changes lead to |Density| & |Molar mass| changes\n",
    "# Enriched isotope ratio input:\n",
    "enrichment_boo = 'N'  # Isotopic enriched or depleted: Y/N?\n",
    "enriched_element_str = 'U'\n",
    "input_ratio_dict = {'U': [0., 0., .15, .85]}\n",
    "                    # 'O': [1., 0., 0.]}  #{'233-U': 0., '234-U': 0., '235-U': 0.15, '238-U': 0.85}}\n",
    "if enrichment_boo == 'Y':\n",
    "    # Update isotope at.% ratio dict\n",
    "    iso_ratio_dicts, enriched_element = _plot_functions.modify_iso_ratio_dicts(elements, isotope_dict, enriched_element_str, input_ratio_dict)\n",
    "    # Update molar mass dict\n",
    "    molar_mass_dict = _plot_functions.modify_molar_mass_dict_by_enrichment(molar_mass_dict, enriched_element, isotope_dict, iso_ratio_dicts, iso_mass_dicts)\n",
    "    # Update density dict\n",
    "    density_gcm3_dict = _plot_functions.modify_density_dict_by_enrichment(density_gcm3_dict, enriched_element, isotope_dict, iso_ratio_dicts)\n",
    "\n",
    "    \n",
    "# Update DICT 5: Density dict, if special case encountered\n",
    "# Special density input:\n",
    "special_density_boo = 'N'\n",
    "special_density_element_str = str\n",
    "special_density_gcm3_list = []\n",
    "if compound_boo == 'N':\n",
    "    if special_density_boo == 'Y':\n",
    "        # Stacked foils and would like to modify density for specific element\n",
    "        density_gcm3_dict = _plot_functions.modify_density_dict_by_input(density_gcm3_dict, special_density_element_str, special_density_gcm3_list)\n",
    "else:\n",
    "    if special_density_boo == 'Y':\n",
    "        # Not isolated elements or mixture or compound need density input currently\n",
    "        input_tot_density = 0.7875\n"
   ]
  },
  {
   "cell_type": "markdown",
   "metadata": {},
   "source": [
    "*Updated DICT 6 for stoichimetric ratios"
   ]
  },
  {
   "cell_type": "code",
   "execution_count": 9,
   "metadata": {},
   "outputs": [],
   "source": [
    "# Updated DICT 6 for stoichimetric ratios\n",
    "# DICT 6: Stoichiometric ratio\n",
    "if compound_boo == 'Y':\n",
    "    # If input is compound, input formula follows the stoichimetric ratios\n",
    "    ele_at_ratio_dict = {}\n",
    "    for el in elements:\n",
    "        ele_at_ratio_dict[el] = formula_dict[el]/sum_ratios\n",
    "else:\n",
    "    # If input is NOT compound, so the input are stack of elements,\n",
    "    # stoichimetric ratios need to be calculated based on density and thickness\n",
    "    ele_at_ratio_dict = _functions.ele_ratio_dict(elements, thick_cm_dict, density_gcm3_dict, molar_mass_dict)"
   ]
  },
  {
   "cell_type": "markdown",
   "metadata": {},
   "source": [
    "* Check parameter dictionaries with print()"
   ]
  },
  {
   "cell_type": "code",
   "execution_count": 11,
   "metadata": {},
   "outputs": [
    {
     "name": "stdout",
     "output_type": "stream",
     "text": [
      "Thickness (cm):  {'Ag': 0.0025, 'Co': 0.0025}\n",
      "Density (g/cm^3):  {'Ag': 10.5, 'Co': 8.9}\n",
      "Molar weight (g/mol):  {'Ag': 107.8682, 'Co': 58.9332}\n",
      "Stoichimetric ratio (at.%):  {'Ag': 0.39193601106969644, 'Co': 0.6080639889303036}\n",
      "Isotopic ratio (at.%):  {'Ag': {'107-Ag': 0.51839, '109-Ag': 0.48161000000000004}, 'Co': {'58-Co': 0.0, '59-Co': 1.0}}\n"
     ]
    }
   ],
   "source": [
    "print('Thickness (cm): ', thick_cm_dict)\n",
    "print('Density (g/cm^3): ', density_gcm3_dict)\n",
    "print('Molar weight (g/mol): ', molar_mass_dict)\n",
    "print('Stoichimetric ratio (at.%): ', ele_at_ratio_dict)\n",
    "print('Isotopic ratio (at.%): ', iso_ratio_dicts)"
   ]
  },
  {
   "cell_type": "markdown",
   "metadata": {},
   "source": [
    "* Extract database and calulate neutron transmission or attenuation\n",
    "Equations: \n",
    "1. N(atoms_per_cm3) \n",
    "        = density / {sum[ele.at% * sum(mass * iso.at%)} \n",
    "           = density / mass_sum\n",
    "2. Transmission(ideal) \n",
    "        = exp{-l * N * {sum[ele.at% * sum(sigma * iso.at%)}} \n",
    "           = exp{-l * N * sigma_sum)\n"
   ]
  },
  {
   "cell_type": "markdown",
   "metadata": {},
   "source": [
    "* The following are steps:\n",
    "1. Get N: atoms_per_cm3\n",
    "2. Get sigma_sum by interpolating the resonance database into new x_axis: x_energy for each isotope\n",
    "3. Get tot transmission: y_trans_tot"
   ]
  },
  {
   "cell_type": "code",
   "execution_count": 12,
   "metadata": {},
   "outputs": [
    {
     "name": "stdout",
     "output_type": "stream",
     "text": [
      "Thickness(l) x atoms_per_cm^3(N) :  3.739139640223701e+20\n"
     ]
    }
   ],
   "source": [
    "'''For plotting the database'''\n",
    "sigma_iso_ele_eleisodict = {}  # For transmission calculation at isotope level\n",
    "sigma_iso_ele_sum_eledict = {}  # For transmission calculation at element level\n",
    "df_raw_dict = {}  # Raw sigma data for elements and isotopes\n",
    "\n",
    "for el in elements:\n",
    "    iso_ratio_list = list(dict.values(iso_ratio_dicts[el]))\n",
    "    \n",
    "    # Get sigma related terms\n",
    "    file_names = _functions.get_file_path(_database, el)\n",
    "    x_energy, sigma_iso_ele_isodict, sigma_iso_ele_sum, df_raw_dict[el] \\\n",
    "        = _plot_functions.get_xy_from_database(iso_ratio_dicts[el],\n",
    "                                               file_names,\n",
    "                                               energy_min,\n",
    "                                               energy_max,\n",
    "                                               iso_ratio_list,\n",
    "                                               sub_x,\n",
    "                                               ele_at_ratio_dict[el])\n",
    "    \n",
    "    # Two level dict of isotopic array of (sigma * iso_ratio * ele_ratio)\n",
    "    sigma_iso_ele_eleisodict[el] = sigma_iso_ele_isodict\n",
    "    # One level dict of elemental array of (sigma * iso_ratio * ele_ratio)\n",
    "    sigma_iso_ele_sum_eledict[el] = sigma_iso_ele_sum\n",
    "\n",
    "# Get term of (thickness * number of atoms per cm^3)\n",
    "if compound_boo == 'Y':\n",
    "    # For compound\n",
    "    thick_cm_list = list(dict.values(thick_cm_dict))\n",
    "    thick_cm = thick_cm_list[0]\n",
    "    compound_density = input_tot_density\n",
    "    mixed_l_n_avo = _plot_functions.l_x_n_compound(elements,\n",
    "                                                   thick_cm,\n",
    "                                                   compound_density,\n",
    "                                                   molar_mass_dict,\n",
    "                                                   ele_at_ratio_dict)\n",
    "else:\n",
    "    # Stacked foils or single foil\n",
    "    mixed_l_n_avo = _plot_functions.l_x_n_multi_ele_stack(elements,\n",
    "                                                          thick_cm_dict,\n",
    "                                                          density_gcm3_dict,\n",
    "                                                          molar_mass_dict)\n",
    "\n",
    "# Get the tot transmission for all\n",
    "yi_values = list(dict.values(sigma_iso_ele_sum_eledict))\n",
    "yi_values_sum = sum(yi_values)\n",
    "\n",
    "trans_sum = _functions.sig_l_2trans_quick(mixed_l_n_avo, yi_values_sum)\n",
    "y_trans_tot = trans_sum"
   ]
  },
  {
   "cell_type": "markdown",
   "metadata": {},
   "source": [
    "* Create dictionary contains transmission or attenuation at elemental level and isotopic level in case of plotting elemental or isotopic contributions in total resonance."
   ]
  },
  {
   "cell_type": "code",
   "execution_count": 13,
   "metadata": {
    "collapsed": true
   },
   "outputs": [],
   "source": [
    "# Create the trans or absorb dict of ele for plotting if needed\n",
    "y_ele_dict = {}\n",
    "if _plot_each_ele_contribution == 'Y':\n",
    "    for _ele in elements:\n",
    "        if _trans_y_axis == 'Y':\n",
    "            y_ele_dict[_ele] = _functions.sig_l_2trans_quick(mixed_l_n_avo, sigma_iso_ele_sum_eledict[_ele])\n",
    "        else:\n",
    "            y_ele_dict[_ele] = 1 - _functions.sig_l_2trans_quick(mixed_l_n_avo, sigma_iso_ele_sum_eledict[_ele])\n",
    "\n",
    "# Create the trans or absorb dict : y_iso_dicts of isotopes for plotting if needed\n",
    "y_iso_dicts = {}\n",
    "if _plot_each_iso_contribution == 'Y':\n",
    "    for _ele in elements:\n",
    "        y_iso_dict = {}\n",
    "        for _iso in isotope_dict[_ele]:\n",
    "            if _trans_y_axis == 'Y':\n",
    "                y_iso_dict[_iso] = _functions.sig_l_2trans_quick(mixed_l_n_avo,\n",
    "                                                                 sigma_iso_ele_eleisodict[_ele][_iso])\n",
    "            else:\n",
    "                y_iso_dict[_iso] = 1 - _functions.sig_l_2trans_quick(mixed_l_n_avo,\n",
    "                                                                     sigma_iso_ele_eleisodict[_ele][_iso])\n",
    "        y_iso_dicts[_ele] = y_iso_dict"
   ]
  },
  {
   "cell_type": "markdown",
   "metadata": {},
   "source": [
    "* Plot the ideal resonance data:\n",
    "  x_energy, y_trans_tot\n",
    "* Or plot the trans dictionaries for elemental or isotopic transmissions "
   ]
  },
  {
   "cell_type": "code",
   "execution_count": 14,
   "metadata": {},
   "outputs": [
    {
     "data": {
      "image/png": "[encoded data removed]",
      "text/plain": [
       "<matplotlib.figure.Figure at 0x114119240>"
      ]
     },
     "metadata": {},
     "output_type": "display_data"
    }
   ],
   "source": [
    "# Plot the theoretical neutron resonance\n",
    "if _plot_or_not == 'Y':\n",
    "    _plot_functions.plot_database(_energy_x_axis,\n",
    "                                  _trans_y_axis,\n",
    "                                  _plot_mixed,\n",
    "                                  _plot_each_ele_contribution,\n",
    "                                  _plot_each_iso_contribution,\n",
    "                                  elements,\n",
    "                                  isotope_dict,\n",
    "                                  x_energy,\n",
    "                                  y_trans_tot,\n",
    "                                  y_ele_dict,\n",
    "                                  y_iso_dicts,\n",
    "                                  _input_formula)"
   ]
  },
  {
   "cell_type": "markdown",
   "metadata": {},
   "source": [
    "* Option for exporting to clipboard for copy-paste into Excel or others to play with thickness and density values"
   ]
  },
  {
   "cell_type": "code",
   "execution_count": 4,
   "metadata": {},
   "outputs": [
    {
     "name": "stdout",
     "output_type": "stream",
     "text": [
      "Parsed chemical formula: {'Ag': 1, 'Au': 1, 'W': 1, 'Hf': 1, 'Cd': 1, 'Co': 1, 'In': 1}\n",
      "Thickness (cm):  {'Ag': 0.01, 'Au': 0.01, 'W': 0.01, 'Hf': 0.01, 'Cd': 0.01, 'Co': 0.01, 'In': 0.01}\n"
     ]
    },
    {
     "data": {
      "image/png": "[encoded data removed]",
      "text/plain": [
       "<matplotlib.figure.Figure at 0x11157d908>"
      ]
     },
     "metadata": {},
     "output_type": "display_data"
    }
   ],
   "source": [
    "# Export to clipboard for density and thickness manipulations with Excel or DataGraph\n",
    "if _export_to_clipboard_boo == 'Y':\n",
    "    _name = _input_formula\n",
    "    df_yi_tot = pd.DataFrame(data=x_energy, index=None)\n",
    "    df_yi_tot.rename(columns={0: 'eV' + _name}, inplace=True)\n",
    "    df_yi_tot['lamda-' + _name] = _functions.ev2lamda(x_energy)\n",
    "    df_yi_tot['sample_density-' + _name] = sample_density\n",
    "    df_yi_tot['avo_divided-' + _name] = avo_divi_mass_iso_ele_sum\n",
    "    df_yi_tot['sigma-' + _name] = yi_values_sum\n",
    "\n",
    "    for ele in elements:\n",
    "        _ele_str = str(ele)\n",
    "        df_yi_tot['sigma-' + _ele_str] = sigma_iso_ele_sum_eledict[ele]\n",
    "        df_test = pd.DataFrame(sigma_iso_ele_eleisodict[ele])\n",
    "        df_yi_tot = pd.concat([df_yi_tot, df_test], axis=1)\n",
    "    print(df_yi_tot.head())\n",
    "    # Export to clipboard\n",
    "    df_yi_tot.to_clipboard(excel=True)"
   ]
  },
  {
   "cell_type": "code",
   "execution_count": null,
   "metadata": {
    "collapsed": true
   },
   "outputs": [],
   "source": []
  }
 ],
 "metadata": {
  "kernelspec": {
   "display_name": "Python 3",
   "language": "python",
   "name": "python3"
  },
  "language_info": {
   "codemirror_mode": {
    "name": "ipython",
    "version": 3
   },
   "file_extension": ".py",
   "mimetype": "text/x-python",
   "name": "python",
   "nbconvert_exporter": "python",
   "pygments_lexer": "ipython3",
   "version": "3.6.1"
  }
 },
 "nbformat": 4,
 "nbformat_minor": 1
}
